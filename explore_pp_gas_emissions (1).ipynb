{
 "cells": [
  {
   "cell_type": "markdown",
   "metadata": {},
   "source": [
    "## Installs and Imports"
   ]
  },
  {
   "cell_type": "code",
   "execution_count": 10,
   "metadata": {},
   "outputs": [
    {
     "name": "stdout",
     "output_type": "stream",
     "text": [
      "Requirement already satisfied: Jinja2 in c:\\users\\nnamd\\anaconda3\\lib\\site-packages (2.11.3)\n",
      "Requirement already satisfied: MarkupSafe>=0.23 in c:\\users\\nnamd\\anaconda3\\lib\\site-packages (from Jinja2) (2.1.1)\n"
     ]
    }
   ],
   "source": [
    "!pip install Jinja2"
   ]
  },
  {
   "cell_type": "code",
   "execution_count": 2,
   "metadata": {},
   "outputs": [],
   "source": [
    "#Import needed packages\n",
    "import numpy as np\n",
    "import pandas as pd\n",
    "import matplotlib.pyplot as plt\n",
    "import seaborn as sns\n",
    "from sklearn.feature_selection import SelectKBest\n",
    "from sklearn.feature_selection import f_regression\n",
    "from sklearn.preprocessing import StandardScaler\n",
    "from sklearn.feature_selection import RFE\n",
    "from sklearn.linear_model import Lasso\n",
    "from sklearn.linear_model import LinearRegression\n",
    "from sklearn.linear_model import Ridge\n",
    "from sklearn.ensemble import RandomForestRegressor\n",
    "from sklearn.svm import SVR\n",
    "from sklearn.neighbors import KNeighborsRegressor\n"
   ]
  },
  {
   "cell_type": "code",
   "execution_count": 3,
   "metadata": {},
   "outputs": [],
   "source": [
    "# import data\n",
    "csv_files= [\"gt_2011.csv\", \"gt_2012.csv\", \"gt_2013.csv\", \"gt_2014.csv\", \"gt_2015.csv\"]\n",
    "pp_data_files=[]\n",
    "for filename in csv_files:\n",
    "    pp_data = pd.read_csv(filename)\n",
    "    pp_data_files.append(pp_data)\n"
   ]
  },
  {
   "cell_type": "code",
   "execution_count": 4,
   "metadata": {},
   "outputs": [
    {
     "name": "stdout",
     "output_type": "stream",
     "text": [
      "year:  2011 | dimensions:  (7411, 11)\n",
      "year:  2012 | dimensions:  (7628, 11)\n",
      "year:  2013 | dimensions:  (7152, 11)\n",
      "year:  2014 | dimensions:  (7158, 11)\n",
      "year:  2015 | dimensions:  (7384, 11)\n"
     ]
    }
   ],
   "source": [
    "# check shape of dataframes\n",
    "for num, df in enumerate(pp_data_files):\n",
    "    print(\"year: \",2011+num,\"| dimensions: \",df.shape)"
   ]
  },
  {
   "cell_type": "code",
   "execution_count": 5,
   "metadata": {},
   "outputs": [
    {
     "data": {
      "text/plain": [
       "(36733, 11)"
      ]
     },
     "execution_count": 5,
     "metadata": {},
     "output_type": "execute_result"
    }
   ],
   "source": [
    "# concatenate all the data into one dataframe to perform statistical operations\n",
    "all_data= pd.concat(pp_data_files, axis=0)\n",
    "all_data.shape"
   ]
  },
  {
   "cell_type": "markdown",
   "metadata": {},
   "source": [
    "## Data Exploration\n",
    "#### Statistics and visualizations for univariate and multivariate analysis"
   ]
  },
  {
   "cell_type": "code",
   "execution_count": 6,
   "metadata": {},
   "outputs": [
    {
     "data": {
      "text/html": [
       "<div>\n",
       "<style scoped>\n",
       "    .dataframe tbody tr th:only-of-type {\n",
       "        vertical-align: middle;\n",
       "    }\n",
       "\n",
       "    .dataframe tbody tr th {\n",
       "        vertical-align: top;\n",
       "    }\n",
       "\n",
       "    .dataframe thead th {\n",
       "        text-align: right;\n",
       "    }\n",
       "</style>\n",
       "<table border=\"1\" class=\"dataframe\">\n",
       "  <thead>\n",
       "    <tr style=\"text-align: right;\">\n",
       "      <th></th>\n",
       "      <th>AT</th>\n",
       "      <th>AP</th>\n",
       "      <th>AH</th>\n",
       "      <th>AFDP</th>\n",
       "      <th>GTEP</th>\n",
       "      <th>TIT</th>\n",
       "      <th>TAT</th>\n",
       "      <th>TEY</th>\n",
       "      <th>CDP</th>\n",
       "      <th>CO</th>\n",
       "      <th>NOX</th>\n",
       "    </tr>\n",
       "  </thead>\n",
       "  <tbody>\n",
       "    <tr>\n",
       "      <th>0</th>\n",
       "      <td>4.5878</td>\n",
       "      <td>1018.7</td>\n",
       "      <td>83.675</td>\n",
       "      <td>3.5758</td>\n",
       "      <td>23.979</td>\n",
       "      <td>1086.2</td>\n",
       "      <td>549.83</td>\n",
       "      <td>134.67</td>\n",
       "      <td>11.898</td>\n",
       "      <td>0.32663</td>\n",
       "      <td>81.952</td>\n",
       "    </tr>\n",
       "    <tr>\n",
       "      <th>1</th>\n",
       "      <td>4.2932</td>\n",
       "      <td>1018.3</td>\n",
       "      <td>84.235</td>\n",
       "      <td>3.5709</td>\n",
       "      <td>23.951</td>\n",
       "      <td>1086.1</td>\n",
       "      <td>550.05</td>\n",
       "      <td>134.67</td>\n",
       "      <td>11.892</td>\n",
       "      <td>0.44784</td>\n",
       "      <td>82.377</td>\n",
       "    </tr>\n",
       "    <tr>\n",
       "      <th>2</th>\n",
       "      <td>3.9045</td>\n",
       "      <td>1018.4</td>\n",
       "      <td>84.858</td>\n",
       "      <td>3.5828</td>\n",
       "      <td>23.990</td>\n",
       "      <td>1086.5</td>\n",
       "      <td>550.19</td>\n",
       "      <td>135.10</td>\n",
       "      <td>12.042</td>\n",
       "      <td>0.45144</td>\n",
       "      <td>83.776</td>\n",
       "    </tr>\n",
       "    <tr>\n",
       "      <th>3</th>\n",
       "      <td>3.7436</td>\n",
       "      <td>1018.3</td>\n",
       "      <td>85.434</td>\n",
       "      <td>3.5808</td>\n",
       "      <td>23.911</td>\n",
       "      <td>1086.5</td>\n",
       "      <td>550.17</td>\n",
       "      <td>135.03</td>\n",
       "      <td>11.990</td>\n",
       "      <td>0.23107</td>\n",
       "      <td>82.505</td>\n",
       "    </tr>\n",
       "    <tr>\n",
       "      <th>4</th>\n",
       "      <td>3.7516</td>\n",
       "      <td>1017.8</td>\n",
       "      <td>85.182</td>\n",
       "      <td>3.5781</td>\n",
       "      <td>23.917</td>\n",
       "      <td>1085.9</td>\n",
       "      <td>550.00</td>\n",
       "      <td>134.67</td>\n",
       "      <td>11.910</td>\n",
       "      <td>0.26747</td>\n",
       "      <td>82.028</td>\n",
       "    </tr>\n",
       "    <tr>\n",
       "      <th>5</th>\n",
       "      <td>3.8858</td>\n",
       "      <td>1017.7</td>\n",
       "      <td>83.946</td>\n",
       "      <td>3.5824</td>\n",
       "      <td>23.903</td>\n",
       "      <td>1086.0</td>\n",
       "      <td>549.98</td>\n",
       "      <td>134.67</td>\n",
       "      <td>11.868</td>\n",
       "      <td>0.23473</td>\n",
       "      <td>81.748</td>\n",
       "    </tr>\n",
       "    <tr>\n",
       "      <th>6</th>\n",
       "      <td>3.6697</td>\n",
       "      <td>1018.0</td>\n",
       "      <td>84.114</td>\n",
       "      <td>3.5804</td>\n",
       "      <td>23.889</td>\n",
       "      <td>1085.9</td>\n",
       "      <td>550.04</td>\n",
       "      <td>134.68</td>\n",
       "      <td>11.877</td>\n",
       "      <td>0.44412</td>\n",
       "      <td>84.592</td>\n",
       "    </tr>\n",
       "    <tr>\n",
       "      <th>7</th>\n",
       "      <td>3.5892</td>\n",
       "      <td>1018.2</td>\n",
       "      <td>83.867</td>\n",
       "      <td>3.5777</td>\n",
       "      <td>23.876</td>\n",
       "      <td>1086.0</td>\n",
       "      <td>549.88</td>\n",
       "      <td>134.66</td>\n",
       "      <td>11.893</td>\n",
       "      <td>0.79996</td>\n",
       "      <td>84.193</td>\n",
       "    </tr>\n",
       "    <tr>\n",
       "      <th>8</th>\n",
       "      <td>3.7108</td>\n",
       "      <td>1018.5</td>\n",
       "      <td>84.948</td>\n",
       "      <td>3.6027</td>\n",
       "      <td>23.957</td>\n",
       "      <td>1086.3</td>\n",
       "      <td>549.98</td>\n",
       "      <td>134.65</td>\n",
       "      <td>11.870</td>\n",
       "      <td>0.68996</td>\n",
       "      <td>83.978</td>\n",
       "    </tr>\n",
       "    <tr>\n",
       "      <th>9</th>\n",
       "      <td>4.8281</td>\n",
       "      <td>1018.5</td>\n",
       "      <td>85.346</td>\n",
       "      <td>3.5158</td>\n",
       "      <td>23.422</td>\n",
       "      <td>1083.1</td>\n",
       "      <td>549.80</td>\n",
       "      <td>132.67</td>\n",
       "      <td>11.694</td>\n",
       "      <td>1.02810</td>\n",
       "      <td>82.654</td>\n",
       "    </tr>\n",
       "  </tbody>\n",
       "</table>\n",
       "</div>"
      ],
      "text/plain": [
       "       AT      AP      AH    AFDP    GTEP     TIT     TAT     TEY     CDP  \\\n",
       "0  4.5878  1018.7  83.675  3.5758  23.979  1086.2  549.83  134.67  11.898   \n",
       "1  4.2932  1018.3  84.235  3.5709  23.951  1086.1  550.05  134.67  11.892   \n",
       "2  3.9045  1018.4  84.858  3.5828  23.990  1086.5  550.19  135.10  12.042   \n",
       "3  3.7436  1018.3  85.434  3.5808  23.911  1086.5  550.17  135.03  11.990   \n",
       "4  3.7516  1017.8  85.182  3.5781  23.917  1085.9  550.00  134.67  11.910   \n",
       "5  3.8858  1017.7  83.946  3.5824  23.903  1086.0  549.98  134.67  11.868   \n",
       "6  3.6697  1018.0  84.114  3.5804  23.889  1085.9  550.04  134.68  11.877   \n",
       "7  3.5892  1018.2  83.867  3.5777  23.876  1086.0  549.88  134.66  11.893   \n",
       "8  3.7108  1018.5  84.948  3.6027  23.957  1086.3  549.98  134.65  11.870   \n",
       "9  4.8281  1018.5  85.346  3.5158  23.422  1083.1  549.80  132.67  11.694   \n",
       "\n",
       "        CO     NOX  \n",
       "0  0.32663  81.952  \n",
       "1  0.44784  82.377  \n",
       "2  0.45144  83.776  \n",
       "3  0.23107  82.505  \n",
       "4  0.26747  82.028  \n",
       "5  0.23473  81.748  \n",
       "6  0.44412  84.592  \n",
       "7  0.79996  84.193  \n",
       "8  0.68996  83.978  \n",
       "9  1.02810  82.654  "
      ]
     },
     "execution_count": 6,
     "metadata": {},
     "output_type": "execute_result"
    }
   ],
   "source": [
    "# columns in the data set\n",
    "all_data.head(10)"
   ]
  },
  {
   "cell_type": "code",
   "execution_count": 7,
   "metadata": {},
   "outputs": [
    {
     "data": {
      "text/html": [
       "<div>\n",
       "<style scoped>\n",
       "    .dataframe tbody tr th:only-of-type {\n",
       "        vertical-align: middle;\n",
       "    }\n",
       "\n",
       "    .dataframe tbody tr th {\n",
       "        vertical-align: top;\n",
       "    }\n",
       "\n",
       "    .dataframe thead th {\n",
       "        text-align: right;\n",
       "    }\n",
       "</style>\n",
       "<table border=\"1\" class=\"dataframe\">\n",
       "  <thead>\n",
       "    <tr style=\"text-align: right;\">\n",
       "      <th></th>\n",
       "      <th>count</th>\n",
       "      <th>mean</th>\n",
       "      <th>std</th>\n",
       "      <th>min</th>\n",
       "      <th>25%</th>\n",
       "      <th>50%</th>\n",
       "      <th>75%</th>\n",
       "      <th>max</th>\n",
       "    </tr>\n",
       "  </thead>\n",
       "  <tbody>\n",
       "    <tr>\n",
       "      <th>AT</th>\n",
       "      <td>36733.0</td>\n",
       "      <td>17.712726</td>\n",
       "      <td>7.447451</td>\n",
       "      <td>-6.234800</td>\n",
       "      <td>11.7810</td>\n",
       "      <td>17.8010</td>\n",
       "      <td>23.6650</td>\n",
       "      <td>37.1030</td>\n",
       "    </tr>\n",
       "    <tr>\n",
       "      <th>AP</th>\n",
       "      <td>36733.0</td>\n",
       "      <td>1013.070165</td>\n",
       "      <td>6.463346</td>\n",
       "      <td>985.850000</td>\n",
       "      <td>1008.8000</td>\n",
       "      <td>1012.6000</td>\n",
       "      <td>1017.0000</td>\n",
       "      <td>1036.6000</td>\n",
       "    </tr>\n",
       "    <tr>\n",
       "      <th>AH</th>\n",
       "      <td>36733.0</td>\n",
       "      <td>77.867015</td>\n",
       "      <td>14.461355</td>\n",
       "      <td>24.085000</td>\n",
       "      <td>68.1880</td>\n",
       "      <td>80.4700</td>\n",
       "      <td>89.3760</td>\n",
       "      <td>100.2000</td>\n",
       "    </tr>\n",
       "    <tr>\n",
       "      <th>AFDP</th>\n",
       "      <td>36733.0</td>\n",
       "      <td>3.925518</td>\n",
       "      <td>0.773936</td>\n",
       "      <td>2.087400</td>\n",
       "      <td>3.3556</td>\n",
       "      <td>3.9377</td>\n",
       "      <td>4.3769</td>\n",
       "      <td>7.6106</td>\n",
       "    </tr>\n",
       "    <tr>\n",
       "      <th>GTEP</th>\n",
       "      <td>36733.0</td>\n",
       "      <td>25.563801</td>\n",
       "      <td>4.195957</td>\n",
       "      <td>17.698000</td>\n",
       "      <td>23.1290</td>\n",
       "      <td>25.1040</td>\n",
       "      <td>29.0610</td>\n",
       "      <td>40.7160</td>\n",
       "    </tr>\n",
       "    <tr>\n",
       "      <th>TIT</th>\n",
       "      <td>36733.0</td>\n",
       "      <td>1081.428084</td>\n",
       "      <td>17.536373</td>\n",
       "      <td>1000.800000</td>\n",
       "      <td>1071.8000</td>\n",
       "      <td>1085.9000</td>\n",
       "      <td>1097.0000</td>\n",
       "      <td>1100.9000</td>\n",
       "    </tr>\n",
       "    <tr>\n",
       "      <th>TAT</th>\n",
       "      <td>36733.0</td>\n",
       "      <td>546.158517</td>\n",
       "      <td>6.842360</td>\n",
       "      <td>511.040000</td>\n",
       "      <td>544.7200</td>\n",
       "      <td>549.8800</td>\n",
       "      <td>550.0400</td>\n",
       "      <td>550.6100</td>\n",
       "    </tr>\n",
       "    <tr>\n",
       "      <th>TEY</th>\n",
       "      <td>36733.0</td>\n",
       "      <td>133.506404</td>\n",
       "      <td>15.618634</td>\n",
       "      <td>100.020000</td>\n",
       "      <td>124.4500</td>\n",
       "      <td>133.7300</td>\n",
       "      <td>144.0800</td>\n",
       "      <td>179.5000</td>\n",
       "    </tr>\n",
       "    <tr>\n",
       "      <th>CDP</th>\n",
       "      <td>36733.0</td>\n",
       "      <td>12.060525</td>\n",
       "      <td>1.088795</td>\n",
       "      <td>9.851800</td>\n",
       "      <td>11.4350</td>\n",
       "      <td>11.9650</td>\n",
       "      <td>12.8550</td>\n",
       "      <td>15.1590</td>\n",
       "    </tr>\n",
       "    <tr>\n",
       "      <th>CO</th>\n",
       "      <td>36733.0</td>\n",
       "      <td>2.372468</td>\n",
       "      <td>2.262672</td>\n",
       "      <td>0.000388</td>\n",
       "      <td>1.1824</td>\n",
       "      <td>1.7135</td>\n",
       "      <td>2.8429</td>\n",
       "      <td>44.1030</td>\n",
       "    </tr>\n",
       "    <tr>\n",
       "      <th>NOX</th>\n",
       "      <td>36733.0</td>\n",
       "      <td>65.293067</td>\n",
       "      <td>11.678357</td>\n",
       "      <td>25.905000</td>\n",
       "      <td>57.1620</td>\n",
       "      <td>63.8490</td>\n",
       "      <td>71.5480</td>\n",
       "      <td>119.9100</td>\n",
       "    </tr>\n",
       "  </tbody>\n",
       "</table>\n",
       "</div>"
      ],
      "text/plain": [
       "        count         mean        std          min        25%        50%  \\\n",
       "AT    36733.0    17.712726   7.447451    -6.234800    11.7810    17.8010   \n",
       "AP    36733.0  1013.070165   6.463346   985.850000  1008.8000  1012.6000   \n",
       "AH    36733.0    77.867015  14.461355    24.085000    68.1880    80.4700   \n",
       "AFDP  36733.0     3.925518   0.773936     2.087400     3.3556     3.9377   \n",
       "GTEP  36733.0    25.563801   4.195957    17.698000    23.1290    25.1040   \n",
       "TIT   36733.0  1081.428084  17.536373  1000.800000  1071.8000  1085.9000   \n",
       "TAT   36733.0   546.158517   6.842360   511.040000   544.7200   549.8800   \n",
       "TEY   36733.0   133.506404  15.618634   100.020000   124.4500   133.7300   \n",
       "CDP   36733.0    12.060525   1.088795     9.851800    11.4350    11.9650   \n",
       "CO    36733.0     2.372468   2.262672     0.000388     1.1824     1.7135   \n",
       "NOX   36733.0    65.293067  11.678357    25.905000    57.1620    63.8490   \n",
       "\n",
       "            75%        max  \n",
       "AT      23.6650    37.1030  \n",
       "AP    1017.0000  1036.6000  \n",
       "AH      89.3760   100.2000  \n",
       "AFDP     4.3769     7.6106  \n",
       "GTEP    29.0610    40.7160  \n",
       "TIT   1097.0000  1100.9000  \n",
       "TAT    550.0400   550.6100  \n",
       "TEY    144.0800   179.5000  \n",
       "CDP     12.8550    15.1590  \n",
       "CO       2.8429    44.1030  \n",
       "NOX     71.5480   119.9100  "
      ]
     },
     "execution_count": 7,
     "metadata": {},
     "output_type": "execute_result"
    }
   ],
   "source": [
    "# Do statistical summaries on the whole data(all_data) and on the data for each year separately\n",
    "# to get trends and understand the data distribution\n",
    "all_data.describe().T"
   ]
  },
  {
   "cell_type": "code",
   "execution_count": 8,
   "metadata": {},
   "outputs": [
    {
     "data": {
      "image/png": "[encoded data removed]",
      "text/plain": [
       "<Figure size 864x648 with 2 Axes>"
      ]
     },
     "metadata": {
      "needs_background": "light"
     },
     "output_type": "display_data"
    }
   ],
   "source": [
    "# Correlation calculations on the data set (all_data)\n",
    "corr= all_data.corr().round(2)\n",
    "fig= plt.figure(figsize=(12,9))\n",
    "sns.heatmap(corr, cmap=\"RdBu\", annot=True)\n",
    "plt.show()\n",
    "# 'RdBu_r', 'BrBG_r', & PuOr_r are other good diverging colormaps"
   ]
  },
  {
   "cell_type": "markdown",
   "metadata": {},
   "source": [
    "Figure 3 reveals the existence of a very strong linear dependency among the input variables, particularly\n",
    "between compressor discharge pressure (CDP) and turbine energy yield (TEY) (0.99), similarly CDP and gas\n",
    "turbine exhaust pressure (GTEP) (0.98). GTEP has also very strong correlation with TEY (0.96). This shows\n",
    "that some of the features may contain redundant information, and thus can be eliminated during model learning.\n",
    "Moreover, we see that the five turbine parameters (namely GTEP, CDP, AFDP, TIT, and TAT) have stronger\n",
    "correlations with TEY, compared to the three ambient variables (AT, AP, and AH) used as features in [24, 25]."
   ]
  },
  {
   "cell_type": "markdown",
   "metadata": {},
   "source": [
    "## Split Train, Validation and Test sets\n",
    "#### This was done as explained in the reference paper"
   ]
  },
  {
   "cell_type": "code",
   "execution_count": 9,
   "metadata": {},
   "outputs": [
    {
     "name": "stdout",
     "output_type": "stream",
     "text": [
      "(15039, 11) (7152, 11) (14542, 11)\n"
     ]
    }
   ],
   "source": [
    "#train set:2011-2012, validation set: 2013, test set: 2014-2015\n",
    "train_set= pd.concat([pp_data_files[0],pp_data_files[1]], axis=0)\n",
    "val_set= pp_data_files[2]\n",
    "test_set= pd.concat([pp_data_files[3],pp_data_files[4]], axis=0)\n",
    "\n",
    "print(train_set.shape, val_set.shape , test_set.shape)"
   ]
  },
  {
   "cell_type": "code",
   "execution_count": 10,
   "metadata": {},
   "outputs": [],
   "source": [
    "# separate x, yNOx and yCO for the training, validation and test\n",
    "# features and target values are converted to arrays for easier computation in the Ml model\n",
    "X_train= train_set[['AT', 'AP', 'AH', 'AFDP', 'GTEP', 'TIT', 'TAT', 'TEY', 'CDP']]\n",
    "yNOx_train= train_set['NOX']\n",
    "yCO_train= train_set['CO']\n",
    "\n",
    "X_val= val_set[['AT', 'AP', 'AH', 'AFDP', 'GTEP', 'TIT', 'TAT', 'TEY', 'CDP']]\n",
    "yNOx_val= val_set['NOX']\n",
    "yCO_val= val_set['CO']\n",
    "\n",
    "X_test= test_set[['AT', 'AP', 'AH', 'AFDP', 'GTEP', 'TIT', 'TAT', 'TEY', 'CDP']]\n",
    "yNOx_test= test_set['NOX']\n",
    "yCO_test= test_set['CO']"
   ]
  },
  {
   "cell_type": "markdown",
   "metadata": {},
   "source": [
    "## Data Preprocessing\n",
    "#### Normalization and Feature Selection"
   ]
  },
  {
   "cell_type": "code",
   "execution_count": 11,
   "metadata": {},
   "outputs": [],
   "source": [
    "# Normalization\n",
    "scaler= StandardScaler()\n",
    "X_train_scaled= scaler.fit_transform(X_train)\n",
    "\n",
    "X_val_scaled= scaler.transform(X_val)\n",
    "X_test_scaled= scaler.transform(X_test)\n",
    "#The features are z-normalized using mean and SD statistics estimated from the corresponding training set"
   ]
  },
  {
   "cell_type": "code",
   "execution_count": 12,
   "metadata": {},
   "outputs": [
    {
     "name": "stdout",
     "output_type": "stream",
     "text": [
      "The features in original data are: ['AT' 'AP' 'AH' 'AFDP' 'GTEP' 'TIT' 'TAT' 'TEY' 'CDP']\n",
      "The selected features for CO are: ['AH' 'AFDP' 'GTEP' 'TIT' 'TEY' 'CDP'] \n",
      " with dimensions:  (15039, 6)\n",
      "The selected features for NOx are: ['AT' 'AP' 'AH' 'GTEP' 'TIT' 'CDP'] \n",
      " with dimensions:  (15039, 6)\n"
     ]
    }
   ],
   "source": [
    "# Feature selection with pearson\n",
    "features = np.array(X_train.columns)\n",
    "print(\"The features in original data are:\",features )\n",
    "# define feature selection for CO\n",
    "fsCO_scaled = SelectKBest(score_func=f_regression, k=6)\n",
    "# apply feature selection\n",
    "X_selected_CO_scaled = fsCO_scaled.fit_transform(X_train_scaled, yCO_train)\n",
    "filter_CO_scaled = fsCO_scaled.get_support()\n",
    "print(\"The selected features for CO are:\",features[filter_CO_scaled],\"\\n with dimensions: \", X_selected_CO_scaled.shape)\n",
    "\n",
    "# define feature selection for NOx\n",
    "fsNOx_scaled = SelectKBest(score_func=f_regression, k=6)\n",
    "# apply feature selection\n",
    "X_selected_NOx_scaled = fsNOx_scaled.fit_transform(X_train_scaled, yNOx_train)\n",
    "filter_NOx_scaled = fsNOx_scaled.get_support()\n",
    "print(\"The selected features for NOx are:\", features[filter_NOx_scaled],\"\\n with dimensions: \", X_selected_NOx_scaled.shape)"
   ]
  },
  {
   "cell_type": "code",
   "execution_count": 13,
   "metadata": {},
   "outputs": [
    {
     "name": "stdout",
     "output_type": "stream",
     "text": [
      "Fitting estimator with 9 features.\n",
      "6 selected features for CO\n",
      "['AFDP', 'GTEP', 'TIT', 'TAT', 'TEY', 'CDP']\n",
      "Fitting estimator with 9 features.\n",
      "6 selected features for NOx\n",
      "['AT', 'AH', 'GTEP', 'TAT', 'TEY', 'CDP']\n"
     ]
    }
   ],
   "source": [
    "# Feature selection with RFE-Lasso CO\n",
    "rfe_lr_selector_CO = RFE(estimator=Lasso(), n_features_to_select=6, step=10, verbose=5)\n",
    "rfe_lr_selector_CO.fit(X_train_scaled, yCO_train)\n",
    "rfe_lr_support_CO = rfe_lr_selector_CO.get_support()\n",
    "rfe_lr_feature_CO = X_train.loc[:,rfe_lr_support_CO].columns.tolist()\n",
    "print(str(len(rfe_lr_feature_CO)), 'selected features for CO')\n",
    "print(rfe_lr_feature_CO)\n",
    "\n",
    "# Feature selection with RFE-Lasso NOx\n",
    "rfe_lr_selector_NOx = RFE(estimator=Lasso(), n_features_to_select=6, step=10, verbose=5)\n",
    "rfe_lr_selector_NOx.fit(X_train_scaled, yNOx_train)\n",
    "rfe_lr_support_NOx = rfe_lr_selector_NOx.get_support()\n",
    "rfe_lr_feature_NOx = X_train.loc[:,rfe_lr_support_NOx].columns.tolist()\n",
    "print(str(len(rfe_lr_feature_NOx)), 'selected features for NOx')\n",
    "print(rfe_lr_feature_NOx)"
   ]
  },
  {
   "cell_type": "code",
   "execution_count": 14,
   "metadata": {},
   "outputs": [
    {
     "name": "stdout",
     "output_type": "stream",
     "text": [
      "Fitting estimator with 9 features.\n",
      "6 selected features for CO\n",
      "['AT', 'AFDP', 'GTEP', 'TIT', 'TAT', 'TEY']\n",
      "Fitting estimator with 9 features.\n",
      "6 selected features for NOx\n",
      "['AT', 'AH', 'AFDP', 'GTEP', 'TIT', 'CDP']\n"
     ]
    }
   ],
   "source": [
    "# Feature selection with RFE-RandomForest CO\n",
    "rfe_rf_selector_CO = RFE(estimator=RandomForestRegressor(n_estimators=50, random_state=42), n_features_to_select=6, step=10, verbose=5)\n",
    "rfe_rf_selector_CO.fit(X_train_scaled, yCO_train)\n",
    "rfe_rf_support_CO = rfe_rf_selector_CO.get_support()\n",
    "rfe_rf_feature_CO = X_train.loc[:,rfe_rf_support_CO].columns.tolist()\n",
    "print(str(len(rfe_rf_feature_CO)), 'selected features for CO')\n",
    "print(rfe_rf_feature_CO)\n",
    "\n",
    "# Feature selection with RFE-RandomForest NOx\n",
    "rfe_rf_selector_NOx = RFE(estimator=RandomForestRegressor(n_estimators=50, random_state=42), n_features_to_select=6, step=10, verbose=5)\n",
    "rfe_rf_selector_NOx.fit(X_train_scaled, yNOx_train)\n",
    "rfe_rf_support_NOx = rfe_rf_selector_NOx.get_support()\n",
    "rfe_rf_feature_NOx = X_train.loc[:,rfe_rf_support_NOx].columns.tolist()\n",
    "print(str(len(rfe_rf_feature_NOx)), 'selected features for NOx')\n",
    "print(rfe_rf_feature_NOx)"
   ]
  },
  {
   "cell_type": "code",
   "execution_count": 17,
   "metadata": {},
   "outputs": [
    {
     "name": "stdout",
     "output_type": "stream",
     "text": [
      "6 selected features for CO\n",
      "['AFDP', 'GTEP', 'TIT', 'TAT', 'TEY', 'CDP']\n",
      "6 selected features for NOx\n",
      "['AT', 'AH', 'GTEP', 'TIT', 'TAT', 'TEY']\n"
     ]
    }
   ],
   "source": [
    "# Feature selection with RFE-SVR CO\n",
    "rfe_svr_selector_CO = RFE(estimator=SVR(kernel=\"linear\"), n_features_to_select=6, step=1)\n",
    "rfe_svr_selector_CO.fit(X_train_scaled, yCO_train)\n",
    "rfe_svr_support_CO = rfe_svr_selector_CO.get_support()\n",
    "rfe_svr_feature_CO = X_train.loc[:,rfe_svr_support_CO].columns.tolist()\n",
    "print(str(len(rfe_svr_feature_CO)), 'selected features for CO')\n",
    "print(rfe_svr_feature_CO)\n",
    "\n",
    "# Feature selection with RFE-SVR NOx\n",
    "rfe_svr_selector_NOx = RFE(estimator=SVR(kernel=\"linear\"), n_features_to_select=6, step=1)\n",
    "rfe_svr_selector_NOx.fit(X_train_scaled, yNOx_train)\n",
    "rfe_svr_support_NOx = rfe_svr_selector_NOx.get_support()\n",
    "rfe_svr_feature_NOx = X_train.loc[:,rfe_svr_support_NOx].columns.tolist()\n",
    "print(str(len(rfe_svr_feature_NOx)), 'selected features for NOx')\n",
    "print(rfe_svr_feature_NOx)"
   ]
  },
  {
   "cell_type": "code",
   "execution_count": 20,
   "metadata": {},
   "outputs": [
    {
     "name": "stdout",
     "output_type": "stream",
     "text": [
      "Feature ranking for CO:\n"
     ]
    },
    {
     "data": {
      "text/html": [
       "<div>\n",
       "<style scoped>\n",
       "    .dataframe tbody tr th:only-of-type {\n",
       "        vertical-align: middle;\n",
       "    }\n",
       "\n",
       "    .dataframe tbody tr th {\n",
       "        vertical-align: top;\n",
       "    }\n",
       "\n",
       "    .dataframe thead th {\n",
       "        text-align: right;\n",
       "    }\n",
       "</style>\n",
       "<table border=\"1\" class=\"dataframe\">\n",
       "  <thead>\n",
       "    <tr style=\"text-align: right;\">\n",
       "      <th></th>\n",
       "      <th>Feature</th>\n",
       "      <th>Pearson</th>\n",
       "      <th>RFE_lr</th>\n",
       "      <th>RFE_rf</th>\n",
       "      <th>RFE_svr</th>\n",
       "      <th>Total</th>\n",
       "    </tr>\n",
       "  </thead>\n",
       "  <tbody>\n",
       "    <tr>\n",
       "      <th>1</th>\n",
       "      <td>TIT</td>\n",
       "      <td>True</td>\n",
       "      <td>True</td>\n",
       "      <td>True</td>\n",
       "      <td>True</td>\n",
       "      <td>4</td>\n",
       "    </tr>\n",
       "    <tr>\n",
       "      <th>2</th>\n",
       "      <td>TEY</td>\n",
       "      <td>True</td>\n",
       "      <td>True</td>\n",
       "      <td>True</td>\n",
       "      <td>True</td>\n",
       "      <td>4</td>\n",
       "    </tr>\n",
       "    <tr>\n",
       "      <th>3</th>\n",
       "      <td>GTEP</td>\n",
       "      <td>True</td>\n",
       "      <td>True</td>\n",
       "      <td>True</td>\n",
       "      <td>True</td>\n",
       "      <td>4</td>\n",
       "    </tr>\n",
       "    <tr>\n",
       "      <th>4</th>\n",
       "      <td>AFDP</td>\n",
       "      <td>True</td>\n",
       "      <td>True</td>\n",
       "      <td>True</td>\n",
       "      <td>True</td>\n",
       "      <td>4</td>\n",
       "    </tr>\n",
       "    <tr>\n",
       "      <th>5</th>\n",
       "      <td>TAT</td>\n",
       "      <td>False</td>\n",
       "      <td>True</td>\n",
       "      <td>True</td>\n",
       "      <td>True</td>\n",
       "      <td>3</td>\n",
       "    </tr>\n",
       "    <tr>\n",
       "      <th>6</th>\n",
       "      <td>CDP</td>\n",
       "      <td>True</td>\n",
       "      <td>True</td>\n",
       "      <td>False</td>\n",
       "      <td>True</td>\n",
       "      <td>3</td>\n",
       "    </tr>\n",
       "    <tr>\n",
       "      <th>7</th>\n",
       "      <td>AT</td>\n",
       "      <td>False</td>\n",
       "      <td>False</td>\n",
       "      <td>True</td>\n",
       "      <td>False</td>\n",
       "      <td>1</td>\n",
       "    </tr>\n",
       "    <tr>\n",
       "      <th>8</th>\n",
       "      <td>AH</td>\n",
       "      <td>True</td>\n",
       "      <td>False</td>\n",
       "      <td>False</td>\n",
       "      <td>False</td>\n",
       "      <td>1</td>\n",
       "    </tr>\n",
       "    <tr>\n",
       "      <th>9</th>\n",
       "      <td>AP</td>\n",
       "      <td>False</td>\n",
       "      <td>False</td>\n",
       "      <td>False</td>\n",
       "      <td>False</td>\n",
       "      <td>0</td>\n",
       "    </tr>\n",
       "  </tbody>\n",
       "</table>\n",
       "</div>"
      ],
      "text/plain": [
       "  Feature  Pearson  RFE_lr  RFE_rf  RFE_svr  Total\n",
       "1     TIT     True    True    True     True      4\n",
       "2     TEY     True    True    True     True      4\n",
       "3    GTEP     True    True    True     True      4\n",
       "4    AFDP     True    True    True     True      4\n",
       "5     TAT    False    True    True     True      3\n",
       "6     CDP     True    True   False     True      3\n",
       "7      AT    False   False    True    False      1\n",
       "8      AH     True   False   False    False      1\n",
       "9      AP    False   False   False    False      0"
      ]
     },
     "execution_count": 20,
     "metadata": {},
     "output_type": "execute_result"
    }
   ],
   "source": [
    "# put all selection together\n",
    "feature_selection_df_CO = pd.DataFrame({'Feature':X_train.columns, 'Pearson':filter_CO_scaled, 'RFE_lr':rfe_lr_support_CO, \n",
    "                                     'RFE_rf':rfe_rf_support_CO,'RFE_svr':rfe_svr_support_CO})\n",
    "# count the selected times for each feature\n",
    "feature_selection_df_CO['Total'] = np.sum(feature_selection_df_CO, axis=1)\n",
    "# display the top \n",
    "feature_selection_df_CO = feature_selection_df_CO.sort_values(['Total','Feature'] , ascending=False)\n",
    "feature_selection_df_CO.index = range(1, len(feature_selection_df_CO)+1)\n",
    "print(\"Feature ranking for CO:\")\n",
    "feature_selection_df_CO.head(9)"
   ]
  },
  {
   "cell_type": "code",
   "execution_count": 21,
   "metadata": {},
   "outputs": [
    {
     "name": "stdout",
     "output_type": "stream",
     "text": [
      "Feature ranking for NOx\n"
     ]
    },
    {
     "data": {
      "text/html": [
       "<div>\n",
       "<style scoped>\n",
       "    .dataframe tbody tr th:only-of-type {\n",
       "        vertical-align: middle;\n",
       "    }\n",
       "\n",
       "    .dataframe tbody tr th {\n",
       "        vertical-align: top;\n",
       "    }\n",
       "\n",
       "    .dataframe thead th {\n",
       "        text-align: right;\n",
       "    }\n",
       "</style>\n",
       "<table border=\"1\" class=\"dataframe\">\n",
       "  <thead>\n",
       "    <tr style=\"text-align: right;\">\n",
       "      <th></th>\n",
       "      <th>Feature</th>\n",
       "      <th>Pearson</th>\n",
       "      <th>RFE_lr</th>\n",
       "      <th>RFE_rf</th>\n",
       "      <th>RFE_svr</th>\n",
       "      <th>Total</th>\n",
       "    </tr>\n",
       "  </thead>\n",
       "  <tbody>\n",
       "    <tr>\n",
       "      <th>1</th>\n",
       "      <td>GTEP</td>\n",
       "      <td>True</td>\n",
       "      <td>True</td>\n",
       "      <td>True</td>\n",
       "      <td>True</td>\n",
       "      <td>4</td>\n",
       "    </tr>\n",
       "    <tr>\n",
       "      <th>2</th>\n",
       "      <td>AT</td>\n",
       "      <td>True</td>\n",
       "      <td>True</td>\n",
       "      <td>True</td>\n",
       "      <td>True</td>\n",
       "      <td>4</td>\n",
       "    </tr>\n",
       "    <tr>\n",
       "      <th>3</th>\n",
       "      <td>AH</td>\n",
       "      <td>True</td>\n",
       "      <td>True</td>\n",
       "      <td>True</td>\n",
       "      <td>True</td>\n",
       "      <td>4</td>\n",
       "    </tr>\n",
       "    <tr>\n",
       "      <th>4</th>\n",
       "      <td>TIT</td>\n",
       "      <td>True</td>\n",
       "      <td>False</td>\n",
       "      <td>True</td>\n",
       "      <td>True</td>\n",
       "      <td>3</td>\n",
       "    </tr>\n",
       "    <tr>\n",
       "      <th>5</th>\n",
       "      <td>CDP</td>\n",
       "      <td>True</td>\n",
       "      <td>True</td>\n",
       "      <td>True</td>\n",
       "      <td>False</td>\n",
       "      <td>3</td>\n",
       "    </tr>\n",
       "    <tr>\n",
       "      <th>6</th>\n",
       "      <td>TEY</td>\n",
       "      <td>False</td>\n",
       "      <td>True</td>\n",
       "      <td>False</td>\n",
       "      <td>True</td>\n",
       "      <td>2</td>\n",
       "    </tr>\n",
       "    <tr>\n",
       "      <th>7</th>\n",
       "      <td>TAT</td>\n",
       "      <td>False</td>\n",
       "      <td>True</td>\n",
       "      <td>False</td>\n",
       "      <td>True</td>\n",
       "      <td>2</td>\n",
       "    </tr>\n",
       "    <tr>\n",
       "      <th>8</th>\n",
       "      <td>AP</td>\n",
       "      <td>True</td>\n",
       "      <td>False</td>\n",
       "      <td>False</td>\n",
       "      <td>False</td>\n",
       "      <td>1</td>\n",
       "    </tr>\n",
       "    <tr>\n",
       "      <th>9</th>\n",
       "      <td>AFDP</td>\n",
       "      <td>False</td>\n",
       "      <td>False</td>\n",
       "      <td>True</td>\n",
       "      <td>False</td>\n",
       "      <td>1</td>\n",
       "    </tr>\n",
       "  </tbody>\n",
       "</table>\n",
       "</div>"
      ],
      "text/plain": [
       "  Feature  Pearson  RFE_lr  RFE_rf  RFE_svr  Total\n",
       "1    GTEP     True    True    True     True      4\n",
       "2      AT     True    True    True     True      4\n",
       "3      AH     True    True    True     True      4\n",
       "4     TIT     True   False    True     True      3\n",
       "5     CDP     True    True    True    False      3\n",
       "6     TEY    False    True   False     True      2\n",
       "7     TAT    False    True   False     True      2\n",
       "8      AP     True   False   False    False      1\n",
       "9    AFDP    False   False    True    False      1"
      ]
     },
     "execution_count": 21,
     "metadata": {},
     "output_type": "execute_result"
    }
   ],
   "source": [
    "# put all selection together for NOx\n",
    "feature_selection_df_NOx = pd.DataFrame({'Feature':X_train.columns, 'Pearson':filter_NOx_scaled, 'RFE_lr':rfe_lr_support_NOx, \n",
    "                                     'RFE_rf':rfe_rf_support_NOx,'RFE_svr':rfe_svr_support_NOx})\n",
    "# count the selected times for each feature\n",
    "feature_selection_df_NOx['Total'] = np.sum(feature_selection_df_NOx, axis=1)\n",
    "# display the top \n",
    "feature_selection_df_NOx = feature_selection_df_NOx.sort_values(['Total','Feature'] , ascending=False)\n",
    "feature_selection_df_NOx.index = range(1, len(feature_selection_df_NOx)+1)\n",
    "print(\"Feature ranking for NOx\")\n",
    "feature_selection_df_NOx.head(9)"
   ]
  },
  {
   "cell_type": "markdown",
   "metadata": {},
   "source": [
    "air features more important for NOx and turbine features more important for CO?????????"
   ]
  },
  {
   "cell_type": "code",
   "execution_count": null,
   "metadata": {},
   "outputs": [],
   "source": [
    "# from sklearn.cross_decomposition import CCA\n",
    "\n",
    "# # rows contain the number of samples for CCA and the number of rvs goes in columns\n",
    "# X_trainCO = train_set[['AT', 'AP', 'AH', 'AFDP', 'GTEP', 'TIT', 'TAT', 'TEY', 'CDP', 'CO']]\n",
    "# X_trainNOx = train_set[['AT', 'AP', 'AH', 'AFDP', 'GTEP', 'TIT', 'TAT', 'TEY', 'CDP', 'NOX']]\n",
    "\n",
    "# # num of components\n",
    "# n_comps = min(X_trainCO.shape[1], X_trainNOx.shape[1])\n",
    "# cca = CCA(n_components=n_comps)\n",
    "# cca.fit(X_trainCO, X_trainNOx)\n",
    "# X_c, Y_c = cca.transform(X_trainCO, X_trainNOx)\n",
    "\n",
    "# # calculate and plot the correlations of all components\n",
    "# corrs = [np.corrcoef(X_c[:, i], Y_c[:, i])[0, 1] for i in range(n_comps)]    \n",
    "# plt.plot(corrs)\n",
    "# plt.xlabel('cca_idx')\n",
    "# plt.ylabel('cca_corr')\n",
    "# plt.show()"
   ]
  },
  {
   "cell_type": "markdown",
   "metadata": {},
   "source": [
    "## Build and Validate models"
   ]
  },
  {
   "cell_type": "markdown",
   "metadata": {},
   "source": [
    "##### Random Forest"
   ]
  },
  {
   "cell_type": "code",
   "execution_count": 64,
   "metadata": {},
   "outputs": [
    {
     "name": "stdout",
     "output_type": "stream",
     "text": [
      "RF Model accuracy on train set for CO is:  0.96373551645326\n",
      "RF Model accuracy on validation set for CO is:  0.703300624183441\n",
      "RF Model accuracy on train set for NOx is:  0.9848215025234012\n",
      "RF Model accuracy on validation set for NOx is:  0.6082522514005648\n"
     ]
    }
   ],
   "source": [
    "# Random Forest for CO\n",
    "RF_CO= RandomForestRegressor(n_estimators=50, random_state=42, max_features=4)\n",
    "RF_CO.fit(X_train_scaled, yCO_train)\n",
    "print(\"RF Model accuracy on train set for CO is: \", RF_CO.score(X_train_scaled, yCO_train))\n",
    "print(\"RF Model accuracy on validation set for CO is: \", RF_CO.score(X_val_scaled, yCO_val))\n",
    "\n",
    "# Random Forest for NOx\n",
    "RF_NOx= RandomForestRegressor(n_estimators=50, random_state=42, max_features=4)\n",
    "RF_NOx.fit(X_train_scaled, yNOx_train)\n",
    "print(\"RF Model accuracy on train set for NOx is: \", RF_NOx.score(X_train_scaled, yNOx_train))\n",
    "print(\"RF Model accuracy on validation set for NOx is: \", RF_NOx.score(X_val_scaled, yNOx_val))"
   ]
  },
  {
   "cell_type": "markdown",
   "metadata": {},
   "source": [
    "##### Linear Regression Models"
   ]
  },
  {
   "cell_type": "code",
   "execution_count": 59,
   "metadata": {},
   "outputs": [
    {
     "name": "stdout",
     "output_type": "stream",
     "text": [
      "Linear reg Model accuracy on train set for CO is:  0.5260641176601066\n",
      "Linear reg Model accuracy on validation set for CO is:  0.5836569533695839\n",
      "\n",
      "Linear reg Model accuracy on train set for NOx is:  0.5496785910920499\n",
      "Linear reg Model accuracy on validation set for NO is:  0.2217619983105068\n"
     ]
    }
   ],
   "source": [
    "#Linear Regression for CO\n",
    "LinearR_CO= LinearRegression()\n",
    "LinearR_CO.fit(X_train_scaled, yCO_train)\n",
    "print(\"Linear reg Model accuracy on train set for CO is: \", LinearR_CO.score(X_train_scaled, yCO_train))\n",
    "print(\"Linear reg Model accuracy on validation set for CO is: \", LinearR_CO.score(X_val_scaled, yCO_val))\n",
    "print()\n",
    "\n",
    "#Linear Regression for NOx\n",
    "LinearR_NOx= LinearRegression()\n",
    "LinearR_NOx.fit(X_train_scaled, yNOx_train)\n",
    "print(\"Linear reg Model accuracy on train set for NOx is: \", LinearR_NOx.score(X_train_scaled, yNOx_train))\n",
    "print(\"Linear reg Model accuracy on validation set for NO is: \", LinearR_NOx.score(X_val_scaled, yNOx_val))"
   ]
  },
  {
   "cell_type": "code",
   "execution_count": 31,
   "metadata": {},
   "outputs": [
    {
     "name": "stdout",
     "output_type": "stream",
     "text": [
      "Ridge reg Model accuracy on train set for NOx is:  0.23970719181671285 0.5465881216743045 10\n"
     ]
    }
   ],
   "source": [
    "#Ridge\n",
    "best_score_CO, best_score_NOx= 0,0\n",
    "for alpha in [10, 1, 0.1, 0.01, 0.001]:\n",
    "    # Model for CO\n",
    "    RR_CO= Ridge(alpha=alpha)\n",
    "    RR_CO.fit(X_train_scaled, yCO_train)\n",
    "    score_val_CO= RR_CO.score(X_val_scaled, yCO_val)\n",
    "    if score_val_CO > best_score_CO:\n",
    "        best_score_CO= score_val_CO\n",
    "        score_train_CO= RR_CO.score(X_train_scaled, yCO_train)\n",
    "        best_param_CO = alpha\n",
    "    \n",
    "    # Model for NOx\n",
    "    RR_NOx= Ridge(alpha=alpha)\n",
    "    RR_NOx.fit(X_train_scaled, yNOx_train)\n",
    "    score_val_NOx= RR_NOx.score(X_val_scaled, yNOx_val)\n",
    "    if score_val_NOx > best_score_NOx:\n",
    "        best_score_NOx= score_val_NOx\n",
    "        score_train_NOx= RR_NOx.score(X_train_scaled, yNOx_train)\n",
    "        best_param_NOx = alpha\n",
    "    \n",
    "\n",
    "print(\"Ridge reg Model accuracy on train set for CO is: \", best_score_CO, score_train_CO, best_param_CO)\n",
    "print(\"Ridge reg Model accuracy on train set for NOx is: \", best_score_NOx, score_train_NOx, best_param_NOx)"
   ]
  },
  {
   "cell_type": "markdown",
   "metadata": {},
   "source": [
    "##### SVM Regression"
   ]
  },
  {
   "cell_type": "code",
   "execution_count": 26,
   "metadata": {},
   "outputs": [
    {
     "name": "stdout",
     "output_type": "stream",
     "text": [
      "SVR Model accuracy on train set for CO is:  0.6395441118992802\n",
      "SVR Model accuracy on train set for NOx is:  0.8333328012339052\n"
     ]
    }
   ],
   "source": [
    "# Don't run this, still working on it\n",
    "best_score_CO=0\n",
    "best_score_NOx= 0\n",
    "for gamma in []:\n",
    "    for C in []:\n",
    "        #SVR for CO\n",
    "        SupportVR_CO= SVR(C=C, kernel='rbf', gamma=gamma, epsilon=0.1)\n",
    "        SupportVR_CO.fit(X_train_scaled, yCO_train)\n",
    "        print(\"SVR Model accuracy on train set for CO is: \", SupportVR_CO.score(X_train_scaled, yCO_train))\n",
    "\n",
    "        #SVR for NOx\n",
    "        SupportVR_NOx= SVR(C=1, kernel='rbf', gamma=0.1, epsilon=0.1)\n",
    "        SupportVR_NOx.fit(X_train_scaled, yNOx_train)\n",
    "        print(\"SVR Model accuracy on train set for NOx is: \", SupportVR_NOx.score(X_train_scaled, yNOx_train))"
   ]
  },
  {
   "cell_type": "markdown",
   "metadata": {},
   "source": [
    "##### K-Nearest Neighbors Regression"
   ]
  },
  {
   "cell_type": "code",
   "execution_count": 55,
   "metadata": {},
   "outputs": [
    {
     "name": "stdout",
     "output_type": "stream",
     "text": [
      "KNN Model accuracy on train set for CO is:  0.6290401154421293 0.7505227612333956 9\n",
      "KNN Model accuracy on train set for NOx is:  0.5288512124707643 0.898463461514659 11\n"
     ]
    }
   ],
   "source": [
    "best_score_CO=0\n",
    "best_score_NOx= 0\n",
    "for k in [6,7,8,9,10,11,12,13,14]:\n",
    "    #KNN for CO\n",
    "    KNNR_CO= KNeighborsRegressor(n_neighbors=k)\n",
    "    KNNR_CO.fit(X_train_scaled, yCO_train)\n",
    "    score_val_CO= KNNR_CO.score(X_val_scaled, yCO_val)\n",
    "    if score_val_CO > best_score_CO:\n",
    "        best_score_CO= score_val_CO\n",
    "        score_train_CO= KNNR_CO.score(X_train_scaled, yCO_train)\n",
    "        best_param_CO = k\n",
    "\n",
    "    #KNN for NOx\n",
    "    KNNR_NOx= KNeighborsRegressor(n_neighbors=k)\n",
    "    KNNR_NOx.fit(X_train_scaled, yNOx_train)\n",
    "    score_val_NOx= KNNR_NOx.score(X_val_scaled, yNOx_val)\n",
    "    if score_val_NOx > best_score_NOx:\n",
    "        best_score_NOx= score_val_NOx\n",
    "        score_train_NOx= KNNR_NOx.score(X_train_scaled, yNOx_train)\n",
    "        best_param_NOx = k\n",
    "    \n",
    "    \n",
    "\n",
    "print(\"KNN Model accuracy on train set for CO is: \", best_score_CO, score_train_CO, best_param_CO)\n",
    "print(\"KNN Model accuracy on train set for NOx is: \", best_score_NOx, score_train_NOx, best_param_NOx)\n"
   ]
  },
  {
   "cell_type": "markdown",
   "metadata": {},
   "source": [
    "## Test Models"
   ]
  },
  {
   "cell_type": "code",
   "execution_count": null,
   "metadata": {},
   "outputs": [],
   "source": []
  },
  {
   "cell_type": "markdown",
   "metadata": {},
   "source": [
    "Next Steps\n",
    "- Next optimize the results on the models using training and validation sets\n",
    "- Write up observations for the presentation\n",
    "- univariate analysis"
   ]
  }
 ],
 "metadata": {
  "kernelspec": {
   "display_name": "Python 3.8.8 ('base')",
   "language": "python",
   "name": "python3"
  },
  "language_info": {
   "codemirror_mode": {
    "name": "ipython",
    "version": 3
   },
   "file_extension": ".py",
   "mimetype": "text/x-python",
   "name": "python",
   "nbconvert_exporter": "python",
   "pygments_lexer": "ipython3",
   "version": "3.8.8"
  },
  "orig_nbformat": 4,
  "vscode": {
   "interpreter": {
    "hash": "5f5ee22630235f68ed53ef17107a1ebcc9da900b5d0c6b24f5c4740e9b718c42"
   }
  }
 },
 "nbformat": 4,
 "nbformat_minor": 2
}
